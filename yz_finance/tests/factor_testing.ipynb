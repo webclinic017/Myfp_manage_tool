{
 "cells": [
  {
   "cell_type": "markdown",
   "source": [
    "# 单因子回测流程\n",
    "基于Fama-MacBeth回归\n",
    "---\n",
    "1. 数据获取\n",
    "2. 数据清洗\n",
    "3. 选取时间窗口 --> 获取beta（因子暴露度）预估值\n",
    "4. 在每个截面上进行回归 --> 获取因子收益率预估值\n",
    "5. 计算因子收益率的期望值，收益率的期望值"
   ],
   "metadata": {
    "collapsed": false,
    "pycharm": {
     "name": "#%% md\n"
    }
   }
  },
  {
   "cell_type": "markdown",
   "source": [
    "数据获取，以上证50成分股数据为研究基础，构建简单市场因子CAPM\n",
    "数据来源：tushare"
   ],
   "metadata": {
    "collapsed": false,
    "pycharm": {
     "name": "#%% md\n"
    }
   }
  },
  {
   "cell_type": "code",
   "execution_count": 1,
   "outputs": [],
   "source": [
    "from data_get import tushare_pro\n",
    "from calculation import Regression\n",
    "from utils import matplotlib_ch_font\n",
    "import tushare as ts\n",
    "import pandas as pd\n",
    "\n",
    "pro = ts.pro_api('8048cbf9b5b32cf6c5ca12b8863a1869901b566749dccbd796b458b5')\n",
    "my_ts = tushare_pro.TushareData()\n",
    "\n",
    "matplotlib_ch_font.matplot_ch_font()"
   ],
   "metadata": {
    "collapsed": false,
    "pycharm": {
     "name": "#%%\n"
    }
   }
  },
  {
   "cell_type": "code",
   "execution_count": 2,
   "outputs": [],
   "source": [
    "t_window = 252\n",
    "t_prediction = 30\n",
    "t_prediction_2 = 60\n",
    "t_prediction_3 = 90\n",
    "\n",
    "T_start = pd.to_datetime('2015-12-31').date()\n",
    "T_end = pd.to_datetime('2021-12-31').date()"
   ],
   "metadata": {
    "collapsed": false,
    "pycharm": {
     "name": "#%%\n"
    }
   }
  },
  {
   "cell_type": "markdown",
   "source": [
    "## 获取指数数据"
   ],
   "metadata": {
    "collapsed": false,
    "pycharm": {
     "name": "#%% md\n"
    }
   }
  },
  {
   "cell_type": "code",
   "execution_count": 3,
   "outputs": [
    {
     "data": {
      "text/plain": "<AxesSubplot:xlabel='trade_date'>"
     },
     "execution_count": 3,
     "metadata": {},
     "output_type": "execute_result"
    },
    {
     "data": {
      "text/plain": "<Figure size 432x288 with 1 Axes>",
      "image/png": "[encoded data removed]"
     },
     "metadata": {
      "needs_background": "light"
     },
     "output_type": "display_data"
    }
   ],
   "source": [
    "# tushare 获取数据\n",
    "index_data = my_ts.daily_index(ts_code='000016.sh')\n",
    "\n",
    "# 选取列\n",
    "index_data = index_data.loc[:, ['trade_date', 'close']]\n",
    "\n",
    "# 日期格式\n",
    "index_data['trade_date'] = pd.to_datetime(index_data['trade_date']).dt.date\n",
    "index_data.sort_values(by='trade_date', inplace=True)\n",
    "\n",
    "# 选取回测区间数据\n",
    "index_data = index_data.loc[(index_data['trade_date'] >= T_start) & (index_data['trade_date'] <= T_end)]\n",
    "\n",
    "# 重设index\n",
    "index_data.reset_index(inplace=True, drop=True)\n",
    "index_data.rename(columns={'close': '中证500收盘价'}, inplace=True)\n",
    "index_data.plot(kind='line', x='trade_date', y='中证500收盘价', grid='both')"
   ],
   "metadata": {
    "collapsed": false,
    "pycharm": {
     "name": "#%%\n"
    }
   }
  },
  {
   "cell_type": "markdown",
   "source": [
    "# 获取股票数据及处理"
   ],
   "metadata": {
    "collapsed": false,
    "pycharm": {
     "name": "#%% md\n"
    }
   }
  },
  {
   "cell_type": "code",
   "execution_count": 4,
   "outputs": [],
   "source": [
    "# 股票列表\n",
    "stock_list = pro.index_weight(**{\n",
    "    \"index_code\": \"000016.sh\",\n",
    "    \"trade_date\": 20220729,\n",
    "    \"start_date\": \"\",\n",
    "    \"end_date\": \"\",\n",
    "    \"limit\": \"\",\n",
    "    \"offset\": \"\"\n",
    "}, fields=[\n",
    "    \"con_code\",\n",
    "    \"weight\"\n",
    "])"
   ],
   "metadata": {
    "collapsed": false,
    "pycharm": {
     "name": "#%%\n"
    }
   }
  },
  {
   "cell_type": "code",
   "execution_count": 43,
   "outputs": [
    {
     "data": {
      "text/plain": "         ts_code  trade_date   close\n0      600893.SH  2015-12-31   45.03\n1      600031.SH  2015-12-31    6.58\n2      603288.SH  2015-12-31   35.35\n3      601668.SH  2015-12-31    6.34\n4      600104.SH  2015-12-31   21.22\n...          ...         ...     ...\n66349  600436.SH  2021-12-31  437.15\n66350  600196.SH  2021-12-31   48.94\n66351  601398.SH  2021-12-31    4.63\n66352  600346.SH  2021-12-31   22.97\n66353  600104.SH  2021-12-31   20.63\n\n[66354 rows x 3 columns]",
      "text/html": "<div>\n<style scoped>\n    .dataframe tbody tr th:only-of-type {\n        vertical-align: middle;\n    }\n\n    .dataframe tbody tr th {\n        vertical-align: top;\n    }\n\n    .dataframe thead th {\n        text-align: right;\n    }\n</style>\n<table border=\"1\" class=\"dataframe\">\n  <thead>\n    <tr style=\"text-align: right;\">\n      <th></th>\n      <th>ts_code</th>\n      <th>trade_date</th>\n      <th>close</th>\n    </tr>\n  </thead>\n  <tbody>\n    <tr>\n      <th>0</th>\n      <td>600893.SH</td>\n      <td>2015-12-31</td>\n      <td>45.03</td>\n    </tr>\n    <tr>\n      <th>1</th>\n      <td>600031.SH</td>\n      <td>2015-12-31</td>\n      <td>6.58</td>\n    </tr>\n    <tr>\n      <th>2</th>\n      <td>603288.SH</td>\n      <td>2015-12-31</td>\n      <td>35.35</td>\n    </tr>\n    <tr>\n      <th>3</th>\n      <td>601668.SH</td>\n      <td>2015-12-31</td>\n      <td>6.34</td>\n    </tr>\n    <tr>\n      <th>4</th>\n      <td>600104.SH</td>\n      <td>2015-12-31</td>\n      <td>21.22</td>\n    </tr>\n    <tr>\n      <th>...</th>\n      <td>...</td>\n      <td>...</td>\n      <td>...</td>\n    </tr>\n    <tr>\n      <th>66349</th>\n      <td>600436.SH</td>\n      <td>2021-12-31</td>\n      <td>437.15</td>\n    </tr>\n    <tr>\n      <th>66350</th>\n      <td>600196.SH</td>\n      <td>2021-12-31</td>\n      <td>48.94</td>\n    </tr>\n    <tr>\n      <th>66351</th>\n      <td>601398.SH</td>\n      <td>2021-12-31</td>\n      <td>4.63</td>\n    </tr>\n    <tr>\n      <th>66352</th>\n      <td>600346.SH</td>\n      <td>2021-12-31</td>\n      <td>22.97</td>\n    </tr>\n    <tr>\n      <th>66353</th>\n      <td>600104.SH</td>\n      <td>2021-12-31</td>\n      <td>20.63</td>\n    </tr>\n  </tbody>\n</table>\n<p>66354 rows × 3 columns</p>\n</div>"
     },
     "execution_count": 43,
     "metadata": {},
     "output_type": "execute_result"
    }
   ],
   "source": [
    "# 获取股票行情数据\n",
    "stock_data = list(map(my_ts.daily_bar, stock_list['con_code']))\n",
    "stock_data = pd.concat(stock_data, axis=0)\n",
    "stock_data = stock_data[['ts_code', 'trade_date', 'close']]\n",
    "# 日期格式\n",
    "stock_data['trade_date'] = pd.to_datetime(stock_data['trade_date']).dt.date\n",
    "stock_data.sort_values(by='trade_date', inplace=True)\n",
    "\n",
    "# 选取回测区间数据\n",
    "stock_data = stock_data.loc[(stock_data['trade_date'] >= T_start) & (stock_data['trade_date'] <= T_end)]\n",
    "\n",
    "# 重设index\n",
    "stock_data.reset_index(inplace=True, drop=True)\n",
    "stock_data"
   ],
   "metadata": {
    "collapsed": false,
    "pycharm": {
     "name": "#%%\n"
    }
   }
  },
  {
   "cell_type": "markdown",
   "source": [
    "## 增加drifts列，回归函数"
   ],
   "metadata": {
    "collapsed": false,
    "pycharm": {
     "name": "#%% md\n"
    }
   }
  },
  {
   "cell_type": "code",
   "execution_count": 6,
   "outputs": [
    {
     "data": {
      "text/plain": "<AxesSubplot:ylabel='Frequency'>"
     },
     "execution_count": 6,
     "metadata": {},
     "output_type": "execute_result"
    },
    {
     "data": {
      "text/plain": "<Figure size 432x288 with 1 Axes>",
      "image/png": "[encoded data removed]"
     },
     "metadata": {
      "needs_background": "light"
     },
     "output_type": "display_data"
    }
   ],
   "source": [
    "index_data['drifts'] = index_data['中证500收盘价'] / index_data['中证500收盘价'].shift(1) - 1\n",
    "index_data['drifts'].plot(kind='hist', bins=50, grid='both')"
   ],
   "metadata": {
    "collapsed": false,
    "pycharm": {
     "name": "#%%\n"
    }
   }
  },
  {
   "cell_type": "code",
   "execution_count": null,
   "outputs": [],
   "source": [
    "index_data.set_index('trade_date', inplace=True)\n",
    "index_data"
   ],
   "metadata": {
    "collapsed": false,
    "pycharm": {
     "name": "#%%\n"
    }
   }
  },
  {
   "cell_type": "code",
   "execution_count": null,
   "outputs": [],
   "source": [
    "# 增加股票drifts列\n",
    "stock_data.set_index(['trade_date', 'ts_code'], inplace=True)\n",
    "stock_data"
   ],
   "metadata": {
    "collapsed": false,
    "pycharm": {
     "name": "#%%\n"
    }
   }
  },
  {
   "cell_type": "code",
   "execution_count": null,
   "outputs": [],
   "source": [
    "from datetime import date\n",
    "# stock_data.loc[date(2015, 12, 31)]\n",
    "# stock_data['2015-12-31']\n",
    "stock_data.loc[stock_data.index.get_level_values(0)]"
   ],
   "metadata": {
    "collapsed": false,
    "pycharm": {
     "name": "#%%\n"
    }
   }
  },
  {
   "cell_type": "code",
   "execution_count": null,
   "outputs": [],
   "source": [
    "stock_data.index.get_level_values(0)"
   ],
   "metadata": {
    "collapsed": false,
    "pycharm": {
     "name": "#%%\n"
    }
   }
  },
  {
   "cell_type": "code",
   "execution_count": null,
   "outputs": [],
   "source": [
    "def add_drifts_factors(stock_code):\n",
    "\n",
    "    # add drifts\n",
    "    current_stock_data =  stock_data.loc[stock_data['ts_code'] == stock_code].copy()\n",
    "    current_stock_data['drifts'] = current_stock_data['close'] / current_stock_data['close'].shift(1) - 1\n",
    "\n",
    "    # add factor\n",
    "    def add_factor(rolling_data):\n",
    "        trade_date = list(rolling_data['trade_date'])\n",
    "        result = Regression.OLS(rolling_data, index_data.loc[index_data['trade_date'].isin(trade_date)])\n",
    "        return result.params[0], result.params[1]\n",
    "\n",
    "    current_stock_data['alpha'], current_stock_data['beta'] \\\n",
    "        = current_stock_data['drifts'].rolling(240).apply(lambda x: add_factor(x))\n",
    "\n",
    "    return current_stock_data"
   ],
   "metadata": {
    "collapsed": false,
    "pycharm": {
     "name": "#%%\n"
    }
   }
  },
  {
   "cell_type": "code",
   "execution_count": null,
   "outputs": [],
   "source": [
    "def add_factor(rolling_data):\n",
    "    a = list(rolling_data['trade_date'])\n",
    "    return index_data.loc[index_data['trade_date'].isin(a)]\n",
    "    # result = Regression.OLS(rolling_data['drifts'], index_data.loc[index_data['trade_date'].isin(a)])\n",
    "    # return result.params[0]\n",
    "\n",
    "test['alpha'] = test.rolling(240).apply(lambda x: add_factor(x))"
   ],
   "metadata": {
    "collapsed": false,
    "pycharm": {
     "name": "#%%\n"
    }
   }
  },
  {
   "cell_type": "code",
   "execution_count": null,
   "outputs": [],
   "source": [
    "test =  stock_data.loc[stock_data['ts_code'] == '600585.SH'].copy()\n",
    "test['drifts'] = test['close'] / test['close'].shift(1) - 1\n",
    "test"
   ],
   "metadata": {
    "collapsed": false,
    "pycharm": {
     "name": "#%%\n"
    }
   }
  },
  {
   "cell_type": "code",
   "execution_count": 31,
   "outputs": [],
   "source": [
    "def add_drifts_factors(stock_code):\n",
    "\n",
    "    # add drifts\n",
    "    current_stock_data =  stock_data.loc[stock_data['ts_code'] == stock_code].copy()\n",
    "    current_stock_data['drifts'] = current_stock_data['close'] / current_stock_data['close'].shift(1) - 1\n",
    "\n",
    "    # add factor\n",
    "    def add_factor(rolling_data):\n",
    "        trade_date = list(rolling_data['trade_date'])\n",
    "        result = Regression.OLS(rolling_data, index_data.loc[index_data['trade_date'].isin(trade_date)])\n",
    "        return result.params[0], result.params[1]\n",
    "\n",
    "    current_stock_data['alpha'], current_stock_data['beta'] \\\n",
    "        = current_stock_data['drifts'].rolling(240).apply(lambda x: add_factor(x))\n",
    "\n",
    "    return current_stock_data"
   ],
   "metadata": {
    "collapsed": false,
    "pycharm": {
     "name": "#%%\n"
    }
   }
  },
  {
   "cell_type": "code",
   "execution_count": 11,
   "outputs": [
    {
     "ename": "KeyError",
     "evalue": "'trade_date'",
     "output_type": "error",
     "traceback": [
      "\u001B[0;31m---------------------------------------------------------------------------\u001B[0m",
      "\u001B[0;31mKeyError\u001B[0m                                  Traceback (most recent call last)",
      "File \u001B[0;32m/opt/homebrew/Caskroom/miniforge/base/envs/Myfp_manage_tool/lib/python3.9/site-packages/pandas/core/indexes/base.py:3621\u001B[0m, in \u001B[0;36mIndex.get_loc\u001B[0;34m(self, key, method, tolerance)\u001B[0m\n\u001B[1;32m   3620\u001B[0m \u001B[38;5;28;01mtry\u001B[39;00m:\n\u001B[0;32m-> 3621\u001B[0m     \u001B[38;5;28;01mreturn\u001B[39;00m \u001B[38;5;28;43mself\u001B[39;49m\u001B[38;5;241;43m.\u001B[39;49m\u001B[43m_engine\u001B[49m\u001B[38;5;241;43m.\u001B[39;49m\u001B[43mget_loc\u001B[49m\u001B[43m(\u001B[49m\u001B[43mcasted_key\u001B[49m\u001B[43m)\u001B[49m\n\u001B[1;32m   3622\u001B[0m \u001B[38;5;28;01mexcept\u001B[39;00m \u001B[38;5;167;01mKeyError\u001B[39;00m \u001B[38;5;28;01mas\u001B[39;00m err:\n",
      "File \u001B[0;32m/opt/homebrew/Caskroom/miniforge/base/envs/Myfp_manage_tool/lib/python3.9/site-packages/pandas/_libs/index.pyx:136\u001B[0m, in \u001B[0;36mpandas._libs.index.IndexEngine.get_loc\u001B[0;34m()\u001B[0m\n",
      "File \u001B[0;32m/opt/homebrew/Caskroom/miniforge/base/envs/Myfp_manage_tool/lib/python3.9/site-packages/pandas/_libs/index.pyx:144\u001B[0m, in \u001B[0;36mpandas._libs.index.IndexEngine.get_loc\u001B[0;34m()\u001B[0m\n",
      "File \u001B[0;32mpandas/_libs/index_class_helper.pxi:41\u001B[0m, in \u001B[0;36mpandas._libs.index.Int64Engine._check_type\u001B[0;34m()\u001B[0m\n",
      "\u001B[0;31mKeyError\u001B[0m: 'trade_date'",
      "\nThe above exception was the direct cause of the following exception:\n",
      "\u001B[0;31mKeyError\u001B[0m                                  Traceback (most recent call last)",
      "Input \u001B[0;32mIn [11]\u001B[0m, in \u001B[0;36m<cell line: 6>\u001B[0;34m()\u001B[0m\n\u001B[1;32m      3\u001B[0m     result \u001B[38;5;241m=\u001B[39m Regression\u001B[38;5;241m.\u001B[39mOLS(rolling_data[\u001B[38;5;124m'\u001B[39m\u001B[38;5;124mdrifts\u001B[39m\u001B[38;5;124m'\u001B[39m], index_data\u001B[38;5;241m.\u001B[39mloc[index_data[\u001B[38;5;124m'\u001B[39m\u001B[38;5;124mtrade_date\u001B[39m\u001B[38;5;124m'\u001B[39m]\u001B[38;5;241m.\u001B[39misin(a), \u001B[38;5;124m'\u001B[39m\u001B[38;5;124mdrifts\u001B[39m\u001B[38;5;124m'\u001B[39m])\n\u001B[1;32m      4\u001B[0m     \u001B[38;5;28;01mreturn\u001B[39;00m result\u001B[38;5;241m.\u001B[39mparams[\u001B[38;5;241m0\u001B[39m]\n\u001B[0;32m----> 6\u001B[0m test[\u001B[38;5;124m'\u001B[39m\u001B[38;5;124malpha\u001B[39m\u001B[38;5;124m'\u001B[39m] \u001B[38;5;241m=\u001B[39m \u001B[43mtest\u001B[49m\u001B[38;5;241;43m.\u001B[39;49m\u001B[43mrolling\u001B[49m\u001B[43m(\u001B[49m\u001B[38;5;241;43m240\u001B[39;49m\u001B[43m)\u001B[49m\u001B[38;5;241;43m.\u001B[39;49m\u001B[43mapply\u001B[49m\u001B[43m(\u001B[49m\u001B[38;5;28;43;01mlambda\u001B[39;49;00m\u001B[43m \u001B[49m\u001B[43mx\u001B[49m\u001B[43m:\u001B[49m\u001B[43m \u001B[49m\u001B[43madd_factor\u001B[49m\u001B[43m(\u001B[49m\u001B[43mx\u001B[49m\u001B[43m)\u001B[49m\u001B[43m)\u001B[49m\n",
      "File \u001B[0;32m/opt/homebrew/Caskroom/miniforge/base/envs/Myfp_manage_tool/lib/python3.9/site-packages/pandas/core/window/rolling.py:1843\u001B[0m, in \u001B[0;36mRolling.apply\u001B[0;34m(self, func, raw, engine, engine_kwargs, args, kwargs)\u001B[0m\n\u001B[1;32m   1822\u001B[0m \u001B[38;5;129m@doc\u001B[39m(\n\u001B[1;32m   1823\u001B[0m     template_header,\n\u001B[1;32m   1824\u001B[0m     create_section_header(\u001B[38;5;124m\"\u001B[39m\u001B[38;5;124mParameters\u001B[39m\u001B[38;5;124m\"\u001B[39m),\n\u001B[0;32m   (...)\u001B[0m\n\u001B[1;32m   1841\u001B[0m     kwargs: \u001B[38;5;28mdict\u001B[39m[\u001B[38;5;28mstr\u001B[39m, Any] \u001B[38;5;241m|\u001B[39m \u001B[38;5;28;01mNone\u001B[39;00m \u001B[38;5;241m=\u001B[39m \u001B[38;5;28;01mNone\u001B[39;00m,\n\u001B[1;32m   1842\u001B[0m ):\n\u001B[0;32m-> 1843\u001B[0m     \u001B[38;5;28;01mreturn\u001B[39;00m \u001B[38;5;28;43msuper\u001B[39;49m\u001B[43m(\u001B[49m\u001B[43m)\u001B[49m\u001B[38;5;241;43m.\u001B[39;49m\u001B[43mapply\u001B[49m\u001B[43m(\u001B[49m\n\u001B[1;32m   1844\u001B[0m \u001B[43m        \u001B[49m\u001B[43mfunc\u001B[49m\u001B[43m,\u001B[49m\n\u001B[1;32m   1845\u001B[0m \u001B[43m        \u001B[49m\u001B[43mraw\u001B[49m\u001B[38;5;241;43m=\u001B[39;49m\u001B[43mraw\u001B[49m\u001B[43m,\u001B[49m\n\u001B[1;32m   1846\u001B[0m \u001B[43m        \u001B[49m\u001B[43mengine\u001B[49m\u001B[38;5;241;43m=\u001B[39;49m\u001B[43mengine\u001B[49m\u001B[43m,\u001B[49m\n\u001B[1;32m   1847\u001B[0m \u001B[43m        \u001B[49m\u001B[43mengine_kwargs\u001B[49m\u001B[38;5;241;43m=\u001B[39;49m\u001B[43mengine_kwargs\u001B[49m\u001B[43m,\u001B[49m\n\u001B[1;32m   1848\u001B[0m \u001B[43m        \u001B[49m\u001B[43margs\u001B[49m\u001B[38;5;241;43m=\u001B[39;49m\u001B[43margs\u001B[49m\u001B[43m,\u001B[49m\n\u001B[1;32m   1849\u001B[0m \u001B[43m        \u001B[49m\u001B[43mkwargs\u001B[49m\u001B[38;5;241;43m=\u001B[39;49m\u001B[43mkwargs\u001B[49m\u001B[43m,\u001B[49m\n\u001B[1;32m   1850\u001B[0m \u001B[43m    \u001B[49m\u001B[43m)\u001B[49m\n",
      "File \u001B[0;32m/opt/homebrew/Caskroom/miniforge/base/envs/Myfp_manage_tool/lib/python3.9/site-packages/pandas/core/window/rolling.py:1315\u001B[0m, in \u001B[0;36mRollingAndExpandingMixin.apply\u001B[0;34m(self, func, raw, engine, engine_kwargs, args, kwargs)\u001B[0m\n\u001B[1;32m   1312\u001B[0m \u001B[38;5;28;01melse\u001B[39;00m:\n\u001B[1;32m   1313\u001B[0m     \u001B[38;5;28;01mraise\u001B[39;00m \u001B[38;5;167;01mValueError\u001B[39;00m(\u001B[38;5;124m\"\u001B[39m\u001B[38;5;124mengine must be either \u001B[39m\u001B[38;5;124m'\u001B[39m\u001B[38;5;124mnumba\u001B[39m\u001B[38;5;124m'\u001B[39m\u001B[38;5;124m or \u001B[39m\u001B[38;5;124m'\u001B[39m\u001B[38;5;124mcython\u001B[39m\u001B[38;5;124m'\u001B[39m\u001B[38;5;124m\"\u001B[39m)\n\u001B[0;32m-> 1315\u001B[0m \u001B[38;5;28;01mreturn\u001B[39;00m \u001B[38;5;28;43mself\u001B[39;49m\u001B[38;5;241;43m.\u001B[39;49m\u001B[43m_apply\u001B[49m\u001B[43m(\u001B[49m\n\u001B[1;32m   1316\u001B[0m \u001B[43m    \u001B[49m\u001B[43mapply_func\u001B[49m\u001B[43m,\u001B[49m\n\u001B[1;32m   1317\u001B[0m \u001B[43m    \u001B[49m\u001B[43mnumba_cache_key\u001B[49m\u001B[38;5;241;43m=\u001B[39;49m\u001B[43mnumba_cache_key\u001B[49m\u001B[43m,\u001B[49m\n\u001B[1;32m   1318\u001B[0m \u001B[43m    \u001B[49m\u001B[43mnumba_args\u001B[49m\u001B[38;5;241;43m=\u001B[39;49m\u001B[43mnumba_args\u001B[49m\u001B[43m,\u001B[49m\n\u001B[1;32m   1319\u001B[0m \u001B[43m\u001B[49m\u001B[43m)\u001B[49m\n",
      "File \u001B[0;32m/opt/homebrew/Caskroom/miniforge/base/envs/Myfp_manage_tool/lib/python3.9/site-packages/pandas/core/window/rolling.py:590\u001B[0m, in \u001B[0;36mBaseWindow._apply\u001B[0;34m(self, func, name, numba_cache_key, numba_args, **kwargs)\u001B[0m\n\u001B[1;32m    587\u001B[0m     \u001B[38;5;28;01mreturn\u001B[39;00m result\n\u001B[1;32m    589\u001B[0m \u001B[38;5;28;01mif\u001B[39;00m \u001B[38;5;28mself\u001B[39m\u001B[38;5;241m.\u001B[39mmethod \u001B[38;5;241m==\u001B[39m \u001B[38;5;124m\"\u001B[39m\u001B[38;5;124msingle\u001B[39m\u001B[38;5;124m\"\u001B[39m:\n\u001B[0;32m--> 590\u001B[0m     \u001B[38;5;28;01mreturn\u001B[39;00m \u001B[38;5;28;43mself\u001B[39;49m\u001B[38;5;241;43m.\u001B[39;49m\u001B[43m_apply_blockwise\u001B[49m\u001B[43m(\u001B[49m\u001B[43mhomogeneous_func\u001B[49m\u001B[43m,\u001B[49m\u001B[43m \u001B[49m\u001B[43mname\u001B[49m\u001B[43m)\u001B[49m\n\u001B[1;32m    591\u001B[0m \u001B[38;5;28;01melse\u001B[39;00m:\n\u001B[1;32m    592\u001B[0m     \u001B[38;5;28;01mreturn\u001B[39;00m \u001B[38;5;28mself\u001B[39m\u001B[38;5;241m.\u001B[39m_apply_tablewise(homogeneous_func, name)\n",
      "File \u001B[0;32m/opt/homebrew/Caskroom/miniforge/base/envs/Myfp_manage_tool/lib/python3.9/site-packages/pandas/core/window/rolling.py:462\u001B[0m, in \u001B[0;36mBaseWindow._apply_blockwise\u001B[0;34m(self, homogeneous_func, name)\u001B[0m\n\u001B[1;32m    459\u001B[0m \u001B[38;5;28;01mfor\u001B[39;00m i, arr \u001B[38;5;129;01min\u001B[39;00m \u001B[38;5;28menumerate\u001B[39m(obj\u001B[38;5;241m.\u001B[39m_iter_column_arrays()):\n\u001B[1;32m    460\u001B[0m     \u001B[38;5;66;03m# GH#42736 operate column-wise instead of block-wise\u001B[39;00m\n\u001B[1;32m    461\u001B[0m     \u001B[38;5;28;01mtry\u001B[39;00m:\n\u001B[0;32m--> 462\u001B[0m         res \u001B[38;5;241m=\u001B[39m \u001B[43mhfunc\u001B[49m\u001B[43m(\u001B[49m\u001B[43marr\u001B[49m\u001B[43m)\u001B[49m\n\u001B[1;32m    463\u001B[0m     \u001B[38;5;28;01mexcept\u001B[39;00m (\u001B[38;5;167;01mTypeError\u001B[39;00m, \u001B[38;5;167;01mNotImplementedError\u001B[39;00m):\n\u001B[1;32m    464\u001B[0m         \u001B[38;5;28;01mpass\u001B[39;00m\n",
      "File \u001B[0;32m/opt/homebrew/Caskroom/miniforge/base/envs/Myfp_manage_tool/lib/python3.9/site-packages/pandas/core/window/rolling.py:452\u001B[0m, in \u001B[0;36mBaseWindow._apply_blockwise.<locals>.hfunc\u001B[0;34m(values)\u001B[0m\n\u001B[1;32m    450\u001B[0m \u001B[38;5;28;01mdef\u001B[39;00m \u001B[38;5;21mhfunc\u001B[39m(values: ArrayLike) \u001B[38;5;241m-\u001B[39m\u001B[38;5;241m>\u001B[39m ArrayLike:\n\u001B[1;32m    451\u001B[0m     values \u001B[38;5;241m=\u001B[39m \u001B[38;5;28mself\u001B[39m\u001B[38;5;241m.\u001B[39m_prep_values(values)\n\u001B[0;32m--> 452\u001B[0m     \u001B[38;5;28;01mreturn\u001B[39;00m \u001B[43mhomogeneous_func\u001B[49m\u001B[43m(\u001B[49m\u001B[43mvalues\u001B[49m\u001B[43m)\u001B[49m\n",
      "File \u001B[0;32m/opt/homebrew/Caskroom/miniforge/base/envs/Myfp_manage_tool/lib/python3.9/site-packages/pandas/core/window/rolling.py:582\u001B[0m, in \u001B[0;36mBaseWindow._apply.<locals>.homogeneous_func\u001B[0;34m(values)\u001B[0m\n\u001B[1;32m    579\u001B[0m     \u001B[38;5;28;01mreturn\u001B[39;00m func(x, start, end, min_periods, \u001B[38;5;241m*\u001B[39mnumba_args)\n\u001B[1;32m    581\u001B[0m \u001B[38;5;28;01mwith\u001B[39;00m np\u001B[38;5;241m.\u001B[39merrstate(\u001B[38;5;28mall\u001B[39m\u001B[38;5;241m=\u001B[39m\u001B[38;5;124m\"\u001B[39m\u001B[38;5;124mignore\u001B[39m\u001B[38;5;124m\"\u001B[39m):\n\u001B[0;32m--> 582\u001B[0m     result \u001B[38;5;241m=\u001B[39m \u001B[43mcalc\u001B[49m\u001B[43m(\u001B[49m\u001B[43mvalues\u001B[49m\u001B[43m)\u001B[49m\n\u001B[1;32m    584\u001B[0m \u001B[38;5;28;01mif\u001B[39;00m numba_cache_key \u001B[38;5;129;01mis\u001B[39;00m \u001B[38;5;129;01mnot\u001B[39;00m \u001B[38;5;28;01mNone\u001B[39;00m:\n\u001B[1;32m    585\u001B[0m     NUMBA_FUNC_CACHE[numba_cache_key] \u001B[38;5;241m=\u001B[39m func\n",
      "File \u001B[0;32m/opt/homebrew/Caskroom/miniforge/base/envs/Myfp_manage_tool/lib/python3.9/site-packages/pandas/core/window/rolling.py:579\u001B[0m, in \u001B[0;36mBaseWindow._apply.<locals>.homogeneous_func.<locals>.calc\u001B[0;34m(x)\u001B[0m\n\u001B[1;32m    571\u001B[0m start, end \u001B[38;5;241m=\u001B[39m window_indexer\u001B[38;5;241m.\u001B[39mget_window_bounds(\n\u001B[1;32m    572\u001B[0m     num_values\u001B[38;5;241m=\u001B[39m\u001B[38;5;28mlen\u001B[39m(x),\n\u001B[1;32m    573\u001B[0m     min_periods\u001B[38;5;241m=\u001B[39mmin_periods,\n\u001B[1;32m    574\u001B[0m     center\u001B[38;5;241m=\u001B[39m\u001B[38;5;28mself\u001B[39m\u001B[38;5;241m.\u001B[39mcenter,\n\u001B[1;32m    575\u001B[0m     closed\u001B[38;5;241m=\u001B[39m\u001B[38;5;28mself\u001B[39m\u001B[38;5;241m.\u001B[39mclosed,\n\u001B[1;32m    576\u001B[0m )\n\u001B[1;32m    577\u001B[0m \u001B[38;5;28mself\u001B[39m\u001B[38;5;241m.\u001B[39m_check_window_bounds(start, end, \u001B[38;5;28mlen\u001B[39m(x))\n\u001B[0;32m--> 579\u001B[0m \u001B[38;5;28;01mreturn\u001B[39;00m \u001B[43mfunc\u001B[49m\u001B[43m(\u001B[49m\u001B[43mx\u001B[49m\u001B[43m,\u001B[49m\u001B[43m \u001B[49m\u001B[43mstart\u001B[49m\u001B[43m,\u001B[49m\u001B[43m \u001B[49m\u001B[43mend\u001B[49m\u001B[43m,\u001B[49m\u001B[43m \u001B[49m\u001B[43mmin_periods\u001B[49m\u001B[43m,\u001B[49m\u001B[43m \u001B[49m\u001B[38;5;241;43m*\u001B[39;49m\u001B[43mnumba_args\u001B[49m\u001B[43m)\u001B[49m\n",
      "File \u001B[0;32m/opt/homebrew/Caskroom/miniforge/base/envs/Myfp_manage_tool/lib/python3.9/site-packages/pandas/core/window/rolling.py:1342\u001B[0m, in \u001B[0;36mRollingAndExpandingMixin._generate_cython_apply_func.<locals>.apply_func\u001B[0;34m(values, begin, end, min_periods, raw)\u001B[0m\n\u001B[1;32m   1339\u001B[0m \u001B[38;5;28;01mif\u001B[39;00m \u001B[38;5;129;01mnot\u001B[39;00m raw:\n\u001B[1;32m   1340\u001B[0m     \u001B[38;5;66;03m# GH 45912\u001B[39;00m\n\u001B[1;32m   1341\u001B[0m     values \u001B[38;5;241m=\u001B[39m Series(values, index\u001B[38;5;241m=\u001B[39m\u001B[38;5;28mself\u001B[39m\u001B[38;5;241m.\u001B[39m_on)\n\u001B[0;32m-> 1342\u001B[0m \u001B[38;5;28;01mreturn\u001B[39;00m \u001B[43mwindow_func\u001B[49m\u001B[43m(\u001B[49m\u001B[43mvalues\u001B[49m\u001B[43m,\u001B[49m\u001B[43m \u001B[49m\u001B[43mbegin\u001B[49m\u001B[43m,\u001B[49m\u001B[43m \u001B[49m\u001B[43mend\u001B[49m\u001B[43m,\u001B[49m\u001B[43m \u001B[49m\u001B[43mmin_periods\u001B[49m\u001B[43m)\u001B[49m\n",
      "File \u001B[0;32m/opt/homebrew/Caskroom/miniforge/base/envs/Myfp_manage_tool/lib/python3.9/site-packages/pandas/_libs/window/aggregations.pyx:1315\u001B[0m, in \u001B[0;36mpandas._libs.window.aggregations.roll_apply\u001B[0;34m()\u001B[0m\n",
      "Input \u001B[0;32mIn [11]\u001B[0m, in \u001B[0;36m<lambda>\u001B[0;34m(x)\u001B[0m\n\u001B[1;32m      3\u001B[0m     result \u001B[38;5;241m=\u001B[39m Regression\u001B[38;5;241m.\u001B[39mOLS(rolling_data[\u001B[38;5;124m'\u001B[39m\u001B[38;5;124mdrifts\u001B[39m\u001B[38;5;124m'\u001B[39m], index_data\u001B[38;5;241m.\u001B[39mloc[index_data[\u001B[38;5;124m'\u001B[39m\u001B[38;5;124mtrade_date\u001B[39m\u001B[38;5;124m'\u001B[39m]\u001B[38;5;241m.\u001B[39misin(a), \u001B[38;5;124m'\u001B[39m\u001B[38;5;124mdrifts\u001B[39m\u001B[38;5;124m'\u001B[39m])\n\u001B[1;32m      4\u001B[0m     \u001B[38;5;28;01mreturn\u001B[39;00m result\u001B[38;5;241m.\u001B[39mparams[\u001B[38;5;241m0\u001B[39m]\n\u001B[0;32m----> 6\u001B[0m test[\u001B[38;5;124m'\u001B[39m\u001B[38;5;124malpha\u001B[39m\u001B[38;5;124m'\u001B[39m] \u001B[38;5;241m=\u001B[39m test\u001B[38;5;241m.\u001B[39mrolling(\u001B[38;5;241m240\u001B[39m)\u001B[38;5;241m.\u001B[39mapply(\u001B[38;5;28;01mlambda\u001B[39;00m x: \u001B[43madd_factor\u001B[49m\u001B[43m(\u001B[49m\u001B[43mx\u001B[49m\u001B[43m)\u001B[49m)\n",
      "Input \u001B[0;32mIn [11]\u001B[0m, in \u001B[0;36madd_factor\u001B[0;34m(rolling_data)\u001B[0m\n\u001B[1;32m      1\u001B[0m \u001B[38;5;28;01mdef\u001B[39;00m \u001B[38;5;21madd_factor\u001B[39m(rolling_data):\n\u001B[0;32m----> 2\u001B[0m     a \u001B[38;5;241m=\u001B[39m \u001B[38;5;28mlist\u001B[39m(\u001B[43mrolling_data\u001B[49m\u001B[43m[\u001B[49m\u001B[38;5;124;43m'\u001B[39;49m\u001B[38;5;124;43mtrade_date\u001B[39;49m\u001B[38;5;124;43m'\u001B[39;49m\u001B[43m]\u001B[49m)\n\u001B[1;32m      3\u001B[0m     result \u001B[38;5;241m=\u001B[39m Regression\u001B[38;5;241m.\u001B[39mOLS(rolling_data[\u001B[38;5;124m'\u001B[39m\u001B[38;5;124mdrifts\u001B[39m\u001B[38;5;124m'\u001B[39m], index_data\u001B[38;5;241m.\u001B[39mloc[index_data[\u001B[38;5;124m'\u001B[39m\u001B[38;5;124mtrade_date\u001B[39m\u001B[38;5;124m'\u001B[39m]\u001B[38;5;241m.\u001B[39misin(a), \u001B[38;5;124m'\u001B[39m\u001B[38;5;124mdrifts\u001B[39m\u001B[38;5;124m'\u001B[39m])\n\u001B[1;32m      4\u001B[0m     \u001B[38;5;28;01mreturn\u001B[39;00m result\u001B[38;5;241m.\u001B[39mparams[\u001B[38;5;241m0\u001B[39m]\n",
      "File \u001B[0;32m/opt/homebrew/Caskroom/miniforge/base/envs/Myfp_manage_tool/lib/python3.9/site-packages/pandas/core/series.py:958\u001B[0m, in \u001B[0;36mSeries.__getitem__\u001B[0;34m(self, key)\u001B[0m\n\u001B[1;32m    955\u001B[0m     \u001B[38;5;28;01mreturn\u001B[39;00m \u001B[38;5;28mself\u001B[39m\u001B[38;5;241m.\u001B[39m_values[key]\n\u001B[1;32m    957\u001B[0m \u001B[38;5;28;01melif\u001B[39;00m key_is_scalar:\n\u001B[0;32m--> 958\u001B[0m     \u001B[38;5;28;01mreturn\u001B[39;00m \u001B[38;5;28;43mself\u001B[39;49m\u001B[38;5;241;43m.\u001B[39;49m\u001B[43m_get_value\u001B[49m\u001B[43m(\u001B[49m\u001B[43mkey\u001B[49m\u001B[43m)\u001B[49m\n\u001B[1;32m    960\u001B[0m \u001B[38;5;28;01mif\u001B[39;00m is_hashable(key):\n\u001B[1;32m    961\u001B[0m     \u001B[38;5;66;03m# Otherwise index.get_value will raise InvalidIndexError\u001B[39;00m\n\u001B[1;32m    962\u001B[0m     \u001B[38;5;28;01mtry\u001B[39;00m:\n\u001B[1;32m    963\u001B[0m         \u001B[38;5;66;03m# For labels that don't resolve as scalars like tuples and frozensets\u001B[39;00m\n",
      "File \u001B[0;32m/opt/homebrew/Caskroom/miniforge/base/envs/Myfp_manage_tool/lib/python3.9/site-packages/pandas/core/series.py:1069\u001B[0m, in \u001B[0;36mSeries._get_value\u001B[0;34m(self, label, takeable)\u001B[0m\n\u001B[1;32m   1066\u001B[0m     \u001B[38;5;28;01mreturn\u001B[39;00m \u001B[38;5;28mself\u001B[39m\u001B[38;5;241m.\u001B[39m_values[label]\n\u001B[1;32m   1068\u001B[0m \u001B[38;5;66;03m# Similar to Index.get_value, but we do not fall back to positional\u001B[39;00m\n\u001B[0;32m-> 1069\u001B[0m loc \u001B[38;5;241m=\u001B[39m \u001B[38;5;28;43mself\u001B[39;49m\u001B[38;5;241;43m.\u001B[39;49m\u001B[43mindex\u001B[49m\u001B[38;5;241;43m.\u001B[39;49m\u001B[43mget_loc\u001B[49m\u001B[43m(\u001B[49m\u001B[43mlabel\u001B[49m\u001B[43m)\u001B[49m\n\u001B[1;32m   1070\u001B[0m \u001B[38;5;28;01mreturn\u001B[39;00m \u001B[38;5;28mself\u001B[39m\u001B[38;5;241m.\u001B[39mindex\u001B[38;5;241m.\u001B[39m_get_values_for_loc(\u001B[38;5;28mself\u001B[39m, loc, label)\n",
      "File \u001B[0;32m/opt/homebrew/Caskroom/miniforge/base/envs/Myfp_manage_tool/lib/python3.9/site-packages/pandas/core/indexes/base.py:3623\u001B[0m, in \u001B[0;36mIndex.get_loc\u001B[0;34m(self, key, method, tolerance)\u001B[0m\n\u001B[1;32m   3621\u001B[0m     \u001B[38;5;28;01mreturn\u001B[39;00m \u001B[38;5;28mself\u001B[39m\u001B[38;5;241m.\u001B[39m_engine\u001B[38;5;241m.\u001B[39mget_loc(casted_key)\n\u001B[1;32m   3622\u001B[0m \u001B[38;5;28;01mexcept\u001B[39;00m \u001B[38;5;167;01mKeyError\u001B[39;00m \u001B[38;5;28;01mas\u001B[39;00m err:\n\u001B[0;32m-> 3623\u001B[0m     \u001B[38;5;28;01mraise\u001B[39;00m \u001B[38;5;167;01mKeyError\u001B[39;00m(key) \u001B[38;5;28;01mfrom\u001B[39;00m \u001B[38;5;21;01merr\u001B[39;00m\n\u001B[1;32m   3624\u001B[0m \u001B[38;5;28;01mexcept\u001B[39;00m \u001B[38;5;167;01mTypeError\u001B[39;00m:\n\u001B[1;32m   3625\u001B[0m     \u001B[38;5;66;03m# If we have a listlike key, _check_indexing_error will raise\u001B[39;00m\n\u001B[1;32m   3626\u001B[0m     \u001B[38;5;66;03m#  InvalidIndexError. Otherwise we fall through and re-raise\u001B[39;00m\n\u001B[1;32m   3627\u001B[0m     \u001B[38;5;66;03m#  the TypeError.\u001B[39;00m\n\u001B[1;32m   3628\u001B[0m     \u001B[38;5;28mself\u001B[39m\u001B[38;5;241m.\u001B[39m_check_indexing_error(key)\n",
      "\u001B[0;31mKeyError\u001B[0m: 'trade_date'"
     ]
    }
   ],
   "source": [
    "def add_factor(rolling_data):\n",
    "    a = list(rolling_data['trade_date'])\n",
    "    return index_data.loc[index_data['trade_date'].isin(a)]\n",
    "    # result = Regression.OLS(rolling_data['drifts'], index_data.loc[index_data['trade_date'].isin(a)])\n",
    "    # return result.params[0]\n",
    "\n",
    "test['alpha'] = test.rolling(240).apply(lambda x: add_factor(x))"
   ],
   "metadata": {
    "collapsed": false,
    "pycharm": {
     "name": "#%%\n"
    }
   }
  },
  {
   "cell_type": "code",
   "execution_count": 9,
   "outputs": [
    {
     "data": {
      "text/plain": "         ts_code  trade_date  close    drifts\n38     600585.SH  2015-12-31  17.10       NaN\n45     600585.SH  2016-01-04  16.07 -0.060234\n112    600585.SH  2016-01-05  16.09  0.001245\n166    600585.SH  2016-01-06  16.68  0.036669\n191    600585.SH  2016-01-07  15.52 -0.069544\n...          ...         ...    ...       ...\n66137  600585.SH  2021-12-27  41.49 -0.006941\n66189  600585.SH  2021-12-28  40.89 -0.014461\n66207  600585.SH  2021-12-29  40.47 -0.010271\n66274  600585.SH  2021-12-30  40.45 -0.000494\n66309  600585.SH  2021-12-31  40.30 -0.003708\n\n[1462 rows x 4 columns]",
      "text/html": "<div>\n<style scoped>\n    .dataframe tbody tr th:only-of-type {\n        vertical-align: middle;\n    }\n\n    .dataframe tbody tr th {\n        vertical-align: top;\n    }\n\n    .dataframe thead th {\n        text-align: right;\n    }\n</style>\n<table border=\"1\" class=\"dataframe\">\n  <thead>\n    <tr style=\"text-align: right;\">\n      <th></th>\n      <th>ts_code</th>\n      <th>trade_date</th>\n      <th>close</th>\n      <th>drifts</th>\n    </tr>\n  </thead>\n  <tbody>\n    <tr>\n      <th>38</th>\n      <td>600585.SH</td>\n      <td>2015-12-31</td>\n      <td>17.10</td>\n      <td>NaN</td>\n    </tr>\n    <tr>\n      <th>45</th>\n      <td>600585.SH</td>\n      <td>2016-01-04</td>\n      <td>16.07</td>\n      <td>-0.060234</td>\n    </tr>\n    <tr>\n      <th>112</th>\n      <td>600585.SH</td>\n      <td>2016-01-05</td>\n      <td>16.09</td>\n      <td>0.001245</td>\n    </tr>\n    <tr>\n      <th>166</th>\n      <td>600585.SH</td>\n      <td>2016-01-06</td>\n      <td>16.68</td>\n      <td>0.036669</td>\n    </tr>\n    <tr>\n      <th>191</th>\n      <td>600585.SH</td>\n      <td>2016-01-07</td>\n      <td>15.52</td>\n      <td>-0.069544</td>\n    </tr>\n    <tr>\n      <th>...</th>\n      <td>...</td>\n      <td>...</td>\n      <td>...</td>\n      <td>...</td>\n    </tr>\n    <tr>\n      <th>66137</th>\n      <td>600585.SH</td>\n      <td>2021-12-27</td>\n      <td>41.49</td>\n      <td>-0.006941</td>\n    </tr>\n    <tr>\n      <th>66189</th>\n      <td>600585.SH</td>\n      <td>2021-12-28</td>\n      <td>40.89</td>\n      <td>-0.014461</td>\n    </tr>\n    <tr>\n      <th>66207</th>\n      <td>600585.SH</td>\n      <td>2021-12-29</td>\n      <td>40.47</td>\n      <td>-0.010271</td>\n    </tr>\n    <tr>\n      <th>66274</th>\n      <td>600585.SH</td>\n      <td>2021-12-30</td>\n      <td>40.45</td>\n      <td>-0.000494</td>\n    </tr>\n    <tr>\n      <th>66309</th>\n      <td>600585.SH</td>\n      <td>2021-12-31</td>\n      <td>40.30</td>\n      <td>-0.003708</td>\n    </tr>\n  </tbody>\n</table>\n<p>1462 rows × 4 columns</p>\n</div>"
     },
     "execution_count": 9,
     "metadata": {},
     "output_type": "execute_result"
    }
   ],
   "source": [
    "test =  stock_data.loc[stock_data['ts_code'] == '600585.SH'].copy()\n",
    "test['drifts'] = test['close'] / test['close'].shift(1) - 1\n",
    "test"
   ],
   "metadata": {
    "collapsed": false,
    "pycharm": {
     "name": "#%%\n"
    }
   }
  },
  {
   "cell_type": "code",
   "execution_count": null,
   "outputs": [],
   "source": [],
   "metadata": {
    "collapsed": false,
    "pycharm": {
     "name": "#%%\n"
    }
   }
  }
 ],
 "metadata": {
  "kernelspec": {
   "display_name": "Python 3",
   "language": "python",
   "name": "python3"
  },
  "language_info": {
   "codemirror_mode": {
    "name": "ipython",
    "version": 2
   },
   "file_extension": ".py",
   "mimetype": "text/x-python",
   "name": "python",
   "nbconvert_exporter": "python",
   "pygments_lexer": "ipython2",
   "version": "2.7.6"
  }
 },
 "nbformat": 4,
 "nbformat_minor": 0
}