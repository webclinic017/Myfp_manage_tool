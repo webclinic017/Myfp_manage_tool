{
 "cells": [
  {
   "cell_type": "markdown",
   "source": [
    "# CAPM 实现及测试"
   ],
   "metadata": {
    "collapsed": false,
    "pycharm": {
     "name": "#%% md\n"
    }
   }
  },
  {
   "cell_type": "code",
   "execution_count": 1,
   "outputs": [],
   "source": [
    "import pandas as pd"
   ],
   "metadata": {
    "collapsed": false,
    "pycharm": {
     "name": "#%%\n"
    }
   }
  },
  {
   "cell_type": "code",
   "execution_count": 2,
   "outputs": [
    {
     "data": {
      "text/plain": "              单位净值    累计净值  复权累计净值\n2019-09-09  1.0000  1.0000  1.0000\n2019-09-27  0.9986  0.9986  0.9986\n2019-09-30  0.9971  0.9971  0.9971\n2019-10-11  1.0000  1.0000  1.0000\n2019-10-18  1.0018  1.0018  1.0018\n...            ...     ...     ...\n2021-10-22  1.1938  1.1938  1.1938\n2021-10-29  1.1892  1.1892  1.1892\n2021-11-05  1.1853  1.1853  1.1853\n2021-11-12  1.1956  1.1956  1.1956\n2021-11-19  1.2008  1.2008  1.2008\n\n[112 rows x 3 columns]",
      "text/html": "<div>\n<style scoped>\n    .dataframe tbody tr th:only-of-type {\n        vertical-align: middle;\n    }\n\n    .dataframe tbody tr th {\n        vertical-align: top;\n    }\n\n    .dataframe thead th {\n        text-align: right;\n    }\n</style>\n<table border=\"1\" class=\"dataframe\">\n  <thead>\n    <tr style=\"text-align: right;\">\n      <th></th>\n      <th>单位净值</th>\n      <th>累计净值</th>\n      <th>复权累计净值</th>\n    </tr>\n  </thead>\n  <tbody>\n    <tr>\n      <th>2019-09-09</th>\n      <td>1.0000</td>\n      <td>1.0000</td>\n      <td>1.0000</td>\n    </tr>\n    <tr>\n      <th>2019-09-27</th>\n      <td>0.9986</td>\n      <td>0.9986</td>\n      <td>0.9986</td>\n    </tr>\n    <tr>\n      <th>2019-09-30</th>\n      <td>0.9971</td>\n      <td>0.9971</td>\n      <td>0.9971</td>\n    </tr>\n    <tr>\n      <th>2019-10-11</th>\n      <td>1.0000</td>\n      <td>1.0000</td>\n      <td>1.0000</td>\n    </tr>\n    <tr>\n      <th>2019-10-18</th>\n      <td>1.0018</td>\n      <td>1.0018</td>\n      <td>1.0018</td>\n    </tr>\n    <tr>\n      <th>...</th>\n      <td>...</td>\n      <td>...</td>\n      <td>...</td>\n    </tr>\n    <tr>\n      <th>2021-10-22</th>\n      <td>1.1938</td>\n      <td>1.1938</td>\n      <td>1.1938</td>\n    </tr>\n    <tr>\n      <th>2021-10-29</th>\n      <td>1.1892</td>\n      <td>1.1892</td>\n      <td>1.1892</td>\n    </tr>\n    <tr>\n      <th>2021-11-05</th>\n      <td>1.1853</td>\n      <td>1.1853</td>\n      <td>1.1853</td>\n    </tr>\n    <tr>\n      <th>2021-11-12</th>\n      <td>1.1956</td>\n      <td>1.1956</td>\n      <td>1.1956</td>\n    </tr>\n    <tr>\n      <th>2021-11-19</th>\n      <td>1.2008</td>\n      <td>1.2008</td>\n      <td>1.2008</td>\n    </tr>\n  </tbody>\n</table>\n<p>112 rows × 3 columns</p>\n</div>"
     },
     "execution_count": 2,
     "metadata": {},
     "output_type": "execute_result"
    }
   ],
   "source": [
    "test_fund = pd.read_excel('test_fund.xlsx', index_col=0)\n",
    "test_fund.index = pd.to_datetime(test_fund.index).date\n",
    "test_fund"
   ],
   "metadata": {
    "collapsed": false,
    "pycharm": {
     "name": "#%%\n"
    }
   }
  },
  {
   "cell_type": "code",
   "execution_count": 3,
   "outputs": [
    {
     "data": {
      "text/plain": "datetime.date"
     },
     "execution_count": 3,
     "metadata": {},
     "output_type": "execute_result"
    }
   ],
   "source": [
    "type(test_fund.index[0])"
   ],
   "metadata": {
    "collapsed": false,
    "pycharm": {
     "name": "#%%\n"
    }
   }
  },
  {
   "cell_type": "markdown",
   "source": [
    "## 获取中证500行情"
   ],
   "metadata": {
    "collapsed": false,
    "pycharm": {
     "name": "#%% md\n"
    }
   }
  },
  {
   "cell_type": "code",
   "execution_count": 4,
   "outputs": [],
   "source": [
    "import tushare as ts"
   ],
   "metadata": {
    "collapsed": false,
    "pycharm": {
     "name": "#%%\n"
    }
   }
  },
  {
   "cell_type": "code",
   "execution_count": 5,
   "outputs": [],
   "source": [
    "# import my tushare package\n",
    "from support.tushare_pro import TushareData"
   ],
   "metadata": {
    "collapsed": false,
    "pycharm": {
     "name": "#%%\n"
    }
   }
  },
  {
   "cell_type": "code",
   "execution_count": 6,
   "outputs": [],
   "source": [
    "td = TushareData()"
   ],
   "metadata": {
    "collapsed": false,
    "pycharm": {
     "name": "#%%\n"
    }
   }
  },
  {
   "cell_type": "code",
   "execution_count": 7,
   "outputs": [
    {
     "data": {
      "text/plain": "              ts_code      close       open       high        low  pre_close  \\\n2022-07-28  000905.SH  6348.1655  6361.2729  6393.7268  6339.5502  6332.2327   \n2022-07-29  000905.SH  6294.1144  6356.5204  6365.2595  6285.7193  6348.1655   \n2022-08-01  000905.SH  6347.2211  6293.3831  6350.0383  6253.0553  6294.1144   \n2022-08-02  000905.SH  6169.9961  6288.6064  6288.6064  6095.0566  6347.2211   \n2022-08-03  000905.SH  6124.3146  6171.6172  6261.9097  6111.2198  6169.9961   \n\n              change  pct_chg          vol        amount  \n2022-07-28   15.9328   0.2516  138473429.0  1.526623e+08  \n2022-07-29  -54.0511  -0.8514  137925792.0  1.529613e+08  \n2022-08-01   53.1067   0.8438  128679012.0  1.513489e+08  \n2022-08-02 -177.2250  -2.7922  182902539.0  1.928734e+08  \n2022-08-03  -45.6815  -0.7404  147213409.0  1.755448e+08  ",
      "text/html": "<div>\n<style scoped>\n    .dataframe tbody tr th:only-of-type {\n        vertical-align: middle;\n    }\n\n    .dataframe tbody tr th {\n        vertical-align: top;\n    }\n\n    .dataframe thead th {\n        text-align: right;\n    }\n</style>\n<table border=\"1\" class=\"dataframe\">\n  <thead>\n    <tr style=\"text-align: right;\">\n      <th></th>\n      <th>ts_code</th>\n      <th>close</th>\n      <th>open</th>\n      <th>high</th>\n      <th>low</th>\n      <th>pre_close</th>\n      <th>change</th>\n      <th>pct_chg</th>\n      <th>vol</th>\n      <th>amount</th>\n    </tr>\n  </thead>\n  <tbody>\n    <tr>\n      <th>2022-07-28</th>\n      <td>000905.SH</td>\n      <td>6348.1655</td>\n      <td>6361.2729</td>\n      <td>6393.7268</td>\n      <td>6339.5502</td>\n      <td>6332.2327</td>\n      <td>15.9328</td>\n      <td>0.2516</td>\n      <td>138473429.0</td>\n      <td>1.526623e+08</td>\n    </tr>\n    <tr>\n      <th>2022-07-29</th>\n      <td>000905.SH</td>\n      <td>6294.1144</td>\n      <td>6356.5204</td>\n      <td>6365.2595</td>\n      <td>6285.7193</td>\n      <td>6348.1655</td>\n      <td>-54.0511</td>\n      <td>-0.8514</td>\n      <td>137925792.0</td>\n      <td>1.529613e+08</td>\n    </tr>\n    <tr>\n      <th>2022-08-01</th>\n      <td>000905.SH</td>\n      <td>6347.2211</td>\n      <td>6293.3831</td>\n      <td>6350.0383</td>\n      <td>6253.0553</td>\n      <td>6294.1144</td>\n      <td>53.1067</td>\n      <td>0.8438</td>\n      <td>128679012.0</td>\n      <td>1.513489e+08</td>\n    </tr>\n    <tr>\n      <th>2022-08-02</th>\n      <td>000905.SH</td>\n      <td>6169.9961</td>\n      <td>6288.6064</td>\n      <td>6288.6064</td>\n      <td>6095.0566</td>\n      <td>6347.2211</td>\n      <td>-177.2250</td>\n      <td>-2.7922</td>\n      <td>182902539.0</td>\n      <td>1.928734e+08</td>\n    </tr>\n    <tr>\n      <th>2022-08-03</th>\n      <td>000905.SH</td>\n      <td>6124.3146</td>\n      <td>6171.6172</td>\n      <td>6261.9097</td>\n      <td>6111.2198</td>\n      <td>6169.9961</td>\n      <td>-45.6815</td>\n      <td>-0.7404</td>\n      <td>147213409.0</td>\n      <td>1.755448e+08</td>\n    </tr>\n  </tbody>\n</table>\n</div>"
     },
     "execution_count": 7,
     "metadata": {},
     "output_type": "execute_result"
    }
   ],
   "source": [
    "zz_500 = td.daily_index(ts_code='000905.sh')\n",
    "zz_500.tail()"
   ],
   "metadata": {
    "collapsed": false,
    "pycharm": {
     "name": "#%%\n"
    }
   }
  },
  {
   "cell_type": "code",
   "execution_count": 8,
   "outputs": [
    {
     "data": {
      "text/plain": "datetime.date"
     },
     "execution_count": 8,
     "metadata": {},
     "output_type": "execute_result"
    }
   ],
   "source": [
    "type(zz_500.index[0])"
   ],
   "metadata": {
    "collapsed": false,
    "pycharm": {
     "name": "#%%\n"
    }
   }
  },
  {
   "cell_type": "code",
   "execution_count": 9,
   "outputs": [
    {
     "data": {
      "text/plain": "              基金净值   中证500收盘价\n2019-09-09  1.0000  5263.4594\n2019-09-27  0.9986  5005.6299\n2019-09-30  0.9971  4940.9030\n2019-10-11  1.0000  5055.5165\n2019-10-18  1.0018  4961.8072\n...            ...        ...\n2021-10-22  1.1938  7026.0676\n2021-10-29  1.1892  7022.4992\n2021-11-05  1.1853  6991.9077\n2021-11-12  1.1956  7156.6127\n2021-11-19  1.2008  7169.8759\n\n[112 rows x 2 columns]",
      "text/html": "<div>\n<style scoped>\n    .dataframe tbody tr th:only-of-type {\n        vertical-align: middle;\n    }\n\n    .dataframe tbody tr th {\n        vertical-align: top;\n    }\n\n    .dataframe thead th {\n        text-align: right;\n    }\n</style>\n<table border=\"1\" class=\"dataframe\">\n  <thead>\n    <tr style=\"text-align: right;\">\n      <th></th>\n      <th>基金净值</th>\n      <th>中证500收盘价</th>\n    </tr>\n  </thead>\n  <tbody>\n    <tr>\n      <th>2019-09-09</th>\n      <td>1.0000</td>\n      <td>5263.4594</td>\n    </tr>\n    <tr>\n      <th>2019-09-27</th>\n      <td>0.9986</td>\n      <td>5005.6299</td>\n    </tr>\n    <tr>\n      <th>2019-09-30</th>\n      <td>0.9971</td>\n      <td>4940.9030</td>\n    </tr>\n    <tr>\n      <th>2019-10-11</th>\n      <td>1.0000</td>\n      <td>5055.5165</td>\n    </tr>\n    <tr>\n      <th>2019-10-18</th>\n      <td>1.0018</td>\n      <td>4961.8072</td>\n    </tr>\n    <tr>\n      <th>...</th>\n      <td>...</td>\n      <td>...</td>\n    </tr>\n    <tr>\n      <th>2021-10-22</th>\n      <td>1.1938</td>\n      <td>7026.0676</td>\n    </tr>\n    <tr>\n      <th>2021-10-29</th>\n      <td>1.1892</td>\n      <td>7022.4992</td>\n    </tr>\n    <tr>\n      <th>2021-11-05</th>\n      <td>1.1853</td>\n      <td>6991.9077</td>\n    </tr>\n    <tr>\n      <th>2021-11-12</th>\n      <td>1.1956</td>\n      <td>7156.6127</td>\n    </tr>\n    <tr>\n      <th>2021-11-19</th>\n      <td>1.2008</td>\n      <td>7169.8759</td>\n    </tr>\n  </tbody>\n</table>\n<p>112 rows × 2 columns</p>\n</div>"
     },
     "execution_count": 9,
     "metadata": {},
     "output_type": "execute_result"
    }
   ],
   "source": [
    "test_data = pd.concat([test_fund['单位净值'], zz_500['close']], axis=1, join='inner')\n",
    "test_data.columns = ['基金净值', '中证500收盘价']\n",
    "test_data"
   ],
   "metadata": {
    "collapsed": false,
    "pycharm": {
     "name": "#%%\n"
    }
   }
  },
  {
   "cell_type": "markdown",
   "source": [
    "## 获取净值表现"
   ],
   "metadata": {
    "collapsed": false,
    "pycharm": {
     "name": "#%% md\n"
    }
   }
  },
  {
   "cell_type": "code",
   "execution_count": null,
   "outputs": [],
   "source": [
    "from support.my_finance import BasicCalculation\n",
    "mf = BasicCalculation()"
   ],
   "metadata": {
    "collapsed": false,
    "pycharm": {
     "name": "#%%\n"
    }
   }
  },
  {
   "cell_type": "code",
   "execution_count": null,
   "outputs": [],
   "source": [
    "drifts = mf.drifts(test_data)\n",
    "drifts"
   ],
   "metadata": {
    "collapsed": false,
    "pycharm": {
     "name": "#%%\n"
    }
   }
  },
  {
   "cell_type": "code",
   "execution_count": null,
   "outputs": [],
   "source": [
    "from support.matplotlib_ch_font import matplot_ch_font\n",
    "matplot_ch_font()"
   ],
   "metadata": {
    "collapsed": false,
    "pycharm": {
     "name": "#%%\n"
    }
   }
  },
  {
   "cell_type": "code",
   "execution_count": null,
   "outputs": [],
   "source": [
    "drifts['基金净值'].plot(kind='hist', bins=50, figsize=(30,15), grid='both')"
   ],
   "metadata": {
    "collapsed": false,
    "pycharm": {
     "name": "#%%\n"
    }
   }
  },
  {
   "cell_type": "code",
   "execution_count": null,
   "outputs": [],
   "source": [
    "drifts.plot(kind='hist', bins=50, figsize=(30,15), grid='both', alpha=0.5)"
   ],
   "metadata": {
    "collapsed": false,
    "pycharm": {
     "name": "#%%\n"
    }
   }
  },
  {
   "cell_type": "code",
   "execution_count": null,
   "outputs": [],
   "source": [
    "mf.accumulate_return(test_data).plot()"
   ],
   "metadata": {
    "collapsed": false,
    "pycharm": {
     "name": "#%%\n"
    }
   }
  },
  {
   "cell_type": "markdown",
   "source": [
    "## 去除outlier及数据标准化"
   ],
   "metadata": {
    "collapsed": false,
    "pycharm": {
     "name": "#%% md\n"
    }
   }
  },
  {
   "cell_type": "markdown",
   "source": [
    "去除outlier"
   ],
   "metadata": {
    "collapsed": false,
    "pycharm": {
     "name": "#%% md\n"
    }
   }
  },
  {
   "cell_type": "code",
   "execution_count": null,
   "outputs": [],
   "source": [
    "trim_data = mf.exclude_outliers_mad(data = drifts, n = 4)\n",
    "trim_data.plot(kind='hist', bins=50, figsize=(30,15), grid='both', alpha=0.5)"
   ],
   "metadata": {
    "collapsed": false,
    "pycharm": {
     "name": "#%%\n"
    }
   }
  },
  {
   "cell_type": "code",
   "execution_count": null,
   "outputs": [],
   "source": [
    "normalized_data = mf.normalized(data=trim_data)\n",
    "normalized_data.plot(kind='hist', bins=50, figsize=(30,15), grid='both', alpha=0.5)"
   ],
   "metadata": {
    "collapsed": false,
    "pycharm": {
     "name": "#%%\n"
    }
   }
  },
  {
   "cell_type": "markdown",
   "source": [
    "## 中证500回归"
   ],
   "metadata": {
    "collapsed": false,
    "pycharm": {
     "name": "#%% md\n"
    }
   }
  },
  {
   "cell_type": "code",
   "execution_count": null,
   "outputs": [],
   "source": [
    "regression_result = mf.linear_regression(y_input=normalized_data['基金净值'], x_input=normalized_data['中证500收盘价'])\n",
    "regression_result.summary()"
   ],
   "metadata": {
    "collapsed": false,
    "pycharm": {
     "name": "#%%\n"
    }
   }
  },
  {
   "cell_type": "markdown",
   "source": [
    "## 去除outlier及数据标准化"
   ],
   "metadata": {
    "collapsed": false,
    "pycharm": {
     "name": "#%% md\n"
    }
   }
  },
  {
   "cell_type": "markdown",
   "source": [
    "去除outlier"
   ],
   "metadata": {
    "collapsed": false,
    "pycharm": {
     "name": "#%% md\n"
    }
   }
  },
  {
   "cell_type": "code",
   "execution_count": 16,
   "outputs": [
    {
     "data": {
      "text/plain": "<AxesSubplot:ylabel='Frequency'>"
     },
     "execution_count": 16,
     "metadata": {},
     "output_type": "execute_result"
    },
    {
     "data": {
      "text/plain": "<Figure size 2160x1080 with 1 Axes>",
      "image/png": "[encoded data removed]"
     },
     "metadata": {
      "needs_background": "light"
     },
     "output_type": "display_data"
    }
   ],
   "source": [
    "trim_data = mf.exclude_outliers_mad(data = drifts, n = 4)\n",
    "trim_data.plot(kind='hist', bins=50, figsize=(30,15), grid='both', alpha=0.5)"
   ],
   "metadata": {
    "collapsed": false,
    "pycharm": {
     "name": "#%%\n"
    }
   }
  },
  {
   "cell_type": "code",
   "execution_count": 17,
   "outputs": [
    {
     "data": {
      "text/plain": "<AxesSubplot:ylabel='Frequency'>"
     },
     "execution_count": 17,
     "metadata": {},
     "output_type": "execute_result"
    },
    {
     "data": {
      "text/plain": "<Figure size 2160x1080 with 1 Axes>",
      "image/png": "[encoded data removed]"
     },
     "metadata": {
      "needs_background": "light"
     },
     "output_type": "display_data"
    }
   ],
   "source": [
    "normalized_data = mf.normalized(data=trim_data)\n",
    "normalized_data.plot(kind='hist', bins=50, figsize=(30,15), grid='both', alpha=0.5)"
   ],
   "metadata": {
    "collapsed": false,
    "pycharm": {
     "name": "#%%\n"
    }
   }
  },
  {
   "cell_type": "markdown",
   "source": [
    "## 中证500回归"
   ],
   "metadata": {
    "collapsed": false,
    "pycharm": {
     "name": "#%% md\n"
    }
   }
  },
  {
   "cell_type": "code",
   "execution_count": 19,
   "outputs": [
    {
     "data": {
      "text/plain": "<class 'statsmodels.iolib.summary.Summary'>\n\"\"\"\n                            OLS Regression Results                            \n==============================================================================\nDep. Variable:                   基金净值   R-squared:                       0.581\nModel:                            OLS   Adj. R-squared:                  0.577\nMethod:                 Least Squares   F-statistic:                     151.1\nDate:                Thu, 04 Aug 2022   Prob (F-statistic):           2.58e-22\nTime:                        11:15:29   Log-Likelihood:                -108.73\nNo. Observations:                 111   AIC:                             221.5\nDf Residuals:                     109   BIC:                             226.9\nDf Model:                           1                                         \nCovariance Type:            nonrobust                                         \n==============================================================================\n                 coef    std err          t      P>|t|      [0.025      0.975]\n------------------------------------------------------------------------------\nconst       1.041e-17      0.062   1.69e-16      1.000      -0.122       0.122\n中证500收盘价       0.7622      0.062     12.292      0.000       0.639       0.885\n==============================================================================\nOmnibus:                        4.601   Durbin-Watson:                   2.574\nProb(Omnibus):                  0.100   Jarque-Bera (JB):                5.691\nSkew:                           0.139   Prob(JB):                       0.0581\nKurtosis:                       4.074   Cond. No.                         1.00\n==============================================================================\n\nNotes:\n[1] Standard Errors assume that the covariance matrix of the errors is correctly specified.\n\"\"\"",
      "text/html": "<table class=\"simpletable\">\n<caption>OLS Regression Results</caption>\n<tr>\n  <th>Dep. Variable:</th>          <td>基金净值</td>       <th>  R-squared:         </th> <td>   0.581</td>\n</tr>\n<tr>\n  <th>Model:</th>                   <td>OLS</td>       <th>  Adj. R-squared:    </th> <td>   0.577</td>\n</tr>\n<tr>\n  <th>Method:</th>             <td>Least Squares</td>  <th>  F-statistic:       </th> <td>   151.1</td>\n</tr>\n<tr>\n  <th>Date:</th>             <td>Thu, 04 Aug 2022</td> <th>  Prob (F-statistic):</th> <td>2.58e-22</td>\n</tr>\n<tr>\n  <th>Time:</th>                 <td>11:15:29</td>     <th>  Log-Likelihood:    </th> <td> -108.73</td>\n</tr>\n<tr>\n  <th>No. Observations:</th>      <td>   111</td>      <th>  AIC:               </th> <td>   221.5</td>\n</tr>\n<tr>\n  <th>Df Residuals:</th>          <td>   109</td>      <th>  BIC:               </th> <td>   226.9</td>\n</tr>\n<tr>\n  <th>Df Model:</th>              <td>     1</td>      <th>                     </th>     <td> </td>   \n</tr>\n<tr>\n  <th>Covariance Type:</th>      <td>nonrobust</td>    <th>                     </th>     <td> </td>   \n</tr>\n</table>\n<table class=\"simpletable\">\n<tr>\n      <td></td>        <th>coef</th>     <th>std err</th>      <th>t</th>      <th>P>|t|</th>  <th>[0.025</th>    <th>0.975]</th>  \n</tr>\n<tr>\n  <th>const</th>    <td> 1.041e-17</td> <td>    0.062</td> <td> 1.69e-16</td> <td> 1.000</td> <td>   -0.122</td> <td>    0.122</td>\n</tr>\n<tr>\n  <th>中证500收盘价</th> <td>    0.7622</td> <td>    0.062</td> <td>   12.292</td> <td> 0.000</td> <td>    0.639</td> <td>    0.885</td>\n</tr>\n</table>\n<table class=\"simpletable\">\n<tr>\n  <th>Omnibus:</th>       <td> 4.601</td> <th>  Durbin-Watson:     </th> <td>   2.574</td>\n</tr>\n<tr>\n  <th>Prob(Omnibus):</th> <td> 0.100</td> <th>  Jarque-Bera (JB):  </th> <td>   5.691</td>\n</tr>\n<tr>\n  <th>Skew:</th>          <td> 0.139</td> <th>  Prob(JB):          </th> <td>  0.0581</td>\n</tr>\n<tr>\n  <th>Kurtosis:</th>      <td> 4.074</td> <th>  Cond. No.          </th> <td>    1.00</td>\n</tr>\n</table><br/><br/>Notes:<br/>[1] Standard Errors assume that the covariance matrix of the errors is correctly specified."
     },
     "execution_count": 19,
     "metadata": {},
     "output_type": "execute_result"
    }
   ],
   "source": [
    "regression_result = mf.linear_regression(y_input=normalized_data['基金净值'], x_input=normalized_data['中证500收盘价'])\n",
    "regression_result.summary()"
   ],
   "metadata": {
    "collapsed": false,
    "pycharm": {
     "name": "#%%\n"
    }
   }
  },
  {
   "cell_type": "code",
   "execution_count": null,
   "outputs": [],
   "source": [],
   "metadata": {
    "collapsed": false,
    "pycharm": {
     "name": "#%%\n"
    }
   }
  }
 ],
 "metadata": {
  "kernelspec": {
   "display_name": "Python 3",
   "language": "python",
   "name": "python3"
  },
  "language_info": {
   "codemirror_mode": {
    "name": "ipython",
    "version": 2
   },
   "file_extension": ".py",
   "mimetype": "text/x-python",
   "name": "python",
   "nbconvert_exporter": "python",
   "pygments_lexer": "ipython2",
   "version": "2.7.6"
  }
 },
 "nbformat": 4,
 "nbformat_minor": 0
}