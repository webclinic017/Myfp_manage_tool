{
 "cells": [
  {
   "cell_type": "markdown",
   "source": [
    "# 池子管理\n",
    "---\n",
    "\n",
    "## 获取 fundcode"
   ],
   "metadata": {
    "collapsed": false,
    "pycharm": {
     "name": "#%% md\n"
    }
   }
  },
  {
   "cell_type": "code",
   "execution_count": 1,
   "outputs": [],
   "source": [
    "import pandas as pd\n",
    "from Support import KingFund"
   ],
   "metadata": {
    "collapsed": false,
    "pycharm": {
     "name": "#%%\n"
    }
   }
  },
  {
   "cell_type": "code",
   "execution_count": 2,
   "outputs": [
    {
     "data": {
      "text/plain": "               基金名称              基金公司  fund_code  备案编号  一级策略   二级策略   所属池  \\\n0            景林丰收2号      上海景林资产管理有限公司        NaN   NaN  股票策略   股票单边  特殊审批   \n1           CTA春雷系列  北京水木长量资本投资管理有限公司        NaN   NaN  管理期货  量化CTA  特殊审批   \n2          启林正兴东绣1号      上海启林投资管理有限公司        NaN   NaN  股票策略   量化选股   50池   \n3       启林量化对冲多策略1号      上海启林投资管理有限公司        NaN   NaN  股票策略   量化选股   50池   \n4              因诺天丰    因诺（上海）资产管理有限公司        NaN   NaN  股票策略   量化选股   50池   \n..              ...               ...        ...   ...   ...    ...   ...   \n170       淘利量化对冲15号      上海淘利资产管理有限公司        NaN   NaN  相对价值   套利策略  200池   \n171           固赢12号      上海茂典资产管理有限公司        NaN   NaN  债券策略   债券策略  200池   \n172        华润信托大岩绝对    深圳嘉石大岩资本管理有限公司        NaN   NaN  事件驱动   事件驱动  200池   \n173  引擎资本远见吕晗严选动态平衡    北京东方引擎投资管理有限公司        NaN   NaN  事件驱动   事件驱动  200池   \n174            玄元元增     广州市玄元投资管理有限公司        NaN   NaN  事件驱动   事件驱动  200池   \n\n    是否代销 是否投资 是否可投 不可投原因            备注  出入池记录  \n0      是    是  NaN   NaN   不在开放，产品持续持有    NaN  \n1      是    是  NaN   NaN        客户要求购买    NaN  \n2      是    是    否    封盘           NaN    NaN  \n3      是    是    否    封盘  80%指增+20%CTA    NaN  \n4      是    是  NaN   NaN           NaN    NaN  \n..   ...  ...  ...   ...           ...    ...  \n170  NaN  NaN  NaN   NaN           NaN    NaN  \n171  NaN  NaN  NaN   NaN           NaN    NaN  \n172  NaN  NaN  NaN   NaN           NaN    NaN  \n173  NaN  NaN  NaN   NaN           NaN    NaN  \n174  NaN  NaN  NaN   NaN           NaN    NaN  \n\n[175 rows x 13 columns]",
      "text/html": "<div>\n<style scoped>\n    .dataframe tbody tr th:only-of-type {\n        vertical-align: middle;\n    }\n\n    .dataframe tbody tr th {\n        vertical-align: top;\n    }\n\n    .dataframe thead th {\n        text-align: right;\n    }\n</style>\n<table border=\"1\" class=\"dataframe\">\n  <thead>\n    <tr style=\"text-align: right;\">\n      <th></th>\n      <th>基金名称</th>\n      <th>基金公司</th>\n      <th>fund_code</th>\n      <th>备案编号</th>\n      <th>一级策略</th>\n      <th>二级策略</th>\n      <th>所属池</th>\n      <th>是否代销</th>\n      <th>是否投资</th>\n      <th>是否可投</th>\n      <th>不可投原因</th>\n      <th>备注</th>\n      <th>出入池记录</th>\n    </tr>\n  </thead>\n  <tbody>\n    <tr>\n      <th>0</th>\n      <td>景林丰收2号</td>\n      <td>上海景林资产管理有限公司</td>\n      <td>NaN</td>\n      <td>NaN</td>\n      <td>股票策略</td>\n      <td>股票单边</td>\n      <td>特殊审批</td>\n      <td>是</td>\n      <td>是</td>\n      <td>NaN</td>\n      <td>NaN</td>\n      <td>不在开放，产品持续持有</td>\n      <td>NaN</td>\n    </tr>\n    <tr>\n      <th>1</th>\n      <td>CTA春雷系列</td>\n      <td>北京水木长量资本投资管理有限公司</td>\n      <td>NaN</td>\n      <td>NaN</td>\n      <td>管理期货</td>\n      <td>量化CTA</td>\n      <td>特殊审批</td>\n      <td>是</td>\n      <td>是</td>\n      <td>NaN</td>\n      <td>NaN</td>\n      <td>客户要求购买</td>\n      <td>NaN</td>\n    </tr>\n    <tr>\n      <th>2</th>\n      <td>启林正兴东绣1号</td>\n      <td>上海启林投资管理有限公司</td>\n      <td>NaN</td>\n      <td>NaN</td>\n      <td>股票策略</td>\n      <td>量化选股</td>\n      <td>50池</td>\n      <td>是</td>\n      <td>是</td>\n      <td>否</td>\n      <td>封盘</td>\n      <td>NaN</td>\n      <td>NaN</td>\n    </tr>\n    <tr>\n      <th>3</th>\n      <td>启林量化对冲多策略1号</td>\n      <td>上海启林投资管理有限公司</td>\n      <td>NaN</td>\n      <td>NaN</td>\n      <td>股票策略</td>\n      <td>量化选股</td>\n      <td>50池</td>\n      <td>是</td>\n      <td>是</td>\n      <td>否</td>\n      <td>封盘</td>\n      <td>80%指增+20%CTA</td>\n      <td>NaN</td>\n    </tr>\n    <tr>\n      <th>4</th>\n      <td>因诺天丰</td>\n      <td>因诺（上海）资产管理有限公司</td>\n      <td>NaN</td>\n      <td>NaN</td>\n      <td>股票策略</td>\n      <td>量化选股</td>\n      <td>50池</td>\n      <td>是</td>\n      <td>是</td>\n      <td>NaN</td>\n      <td>NaN</td>\n      <td>NaN</td>\n      <td>NaN</td>\n    </tr>\n    <tr>\n      <th>...</th>\n      <td>...</td>\n      <td>...</td>\n      <td>...</td>\n      <td>...</td>\n      <td>...</td>\n      <td>...</td>\n      <td>...</td>\n      <td>...</td>\n      <td>...</td>\n      <td>...</td>\n      <td>...</td>\n      <td>...</td>\n      <td>...</td>\n    </tr>\n    <tr>\n      <th>170</th>\n      <td>淘利量化对冲15号</td>\n      <td>上海淘利资产管理有限公司</td>\n      <td>NaN</td>\n      <td>NaN</td>\n      <td>相对价值</td>\n      <td>套利策略</td>\n      <td>200池</td>\n      <td>NaN</td>\n      <td>NaN</td>\n      <td>NaN</td>\n      <td>NaN</td>\n      <td>NaN</td>\n      <td>NaN</td>\n    </tr>\n    <tr>\n      <th>171</th>\n      <td>固赢12号</td>\n      <td>上海茂典资产管理有限公司</td>\n      <td>NaN</td>\n      <td>NaN</td>\n      <td>债券策略</td>\n      <td>债券策略</td>\n      <td>200池</td>\n      <td>NaN</td>\n      <td>NaN</td>\n      <td>NaN</td>\n      <td>NaN</td>\n      <td>NaN</td>\n      <td>NaN</td>\n    </tr>\n    <tr>\n      <th>172</th>\n      <td>华润信托大岩绝对</td>\n      <td>深圳嘉石大岩资本管理有限公司</td>\n      <td>NaN</td>\n      <td>NaN</td>\n      <td>事件驱动</td>\n      <td>事件驱动</td>\n      <td>200池</td>\n      <td>NaN</td>\n      <td>NaN</td>\n      <td>NaN</td>\n      <td>NaN</td>\n      <td>NaN</td>\n      <td>NaN</td>\n    </tr>\n    <tr>\n      <th>173</th>\n      <td>引擎资本远见吕晗严选动态平衡</td>\n      <td>北京东方引擎投资管理有限公司</td>\n      <td>NaN</td>\n      <td>NaN</td>\n      <td>事件驱动</td>\n      <td>事件驱动</td>\n      <td>200池</td>\n      <td>NaN</td>\n      <td>NaN</td>\n      <td>NaN</td>\n      <td>NaN</td>\n      <td>NaN</td>\n      <td>NaN</td>\n    </tr>\n    <tr>\n      <th>174</th>\n      <td>玄元元增</td>\n      <td>广州市玄元投资管理有限公司</td>\n      <td>NaN</td>\n      <td>NaN</td>\n      <td>事件驱动</td>\n      <td>事件驱动</td>\n      <td>200池</td>\n      <td>NaN</td>\n      <td>NaN</td>\n      <td>NaN</td>\n      <td>NaN</td>\n      <td>NaN</td>\n      <td>NaN</td>\n    </tr>\n  </tbody>\n</table>\n<p>175 rows × 13 columns</p>\n</div>"
     },
     "execution_count": 2,
     "metadata": {},
     "output_type": "execute_result"
    }
   ],
   "source": [
    "pool = pd.read_excel('pool.xlsx')\n",
    "pool"
   ],
   "metadata": {
    "collapsed": false,
    "pycharm": {
     "name": "#%%\n"
    }
   }
  },
  {
   "cell_type": "code",
   "execution_count": 3,
   "outputs": [
    {
     "name": "stdout",
     "output_type": "stream",
     "text": [
      "connected\n"
     ]
    }
   ],
   "source": [
    "kf = KingFund.KingFund()"
   ],
   "metadata": {
    "collapsed": false,
    "pycharm": {
     "name": "#%%\n"
    }
   }
  },
  {
   "cell_type": "code",
   "execution_count": 4,
   "outputs": [
    {
     "name": "stdout",
     "output_type": "stream",
     "text": [
      "没查询到对应标的，查询标的名称：CTA春雷系列\n",
      "没查询到对应标的，查询标的名称：华宝元盛七号\n",
      "没查询到对应标的，查询标的名称：华宝元盛三号\n",
      "没查询到对应标的，查询标的名称：盛冠达基本面量化1号\n",
      "没查询到对应标的，查询标的名称：均成宏观对冲一号\n",
      "没查询到对应标的，查询标的名称：丰润指数增强1期\n",
      "没查询到对应标的，查询标的名称：龙旗红旭500指数增强\n",
      "没查询到对应标的，查询标的名称：保银-中国价值\n",
      "没查询到对应标的，查询标的名称：华安合鑫稳健、华安合鑫大成长一期\n",
      "没查询到对应标的，查询标的名称：博普CTA量化1号A\n",
      "没查询到对应标的，查询标的名称：天算CTA一号\n",
      "没查询到对应标的，查询标的名称：迈德瑞趋势机会3、5\n",
      "没查询到对应标的，查询标的名称：林道波动率1号\n",
      "没查询到对应标的，查询标的名称：盛泉恒元量化2号\n"
     ]
    }
   ],
   "source": [
    "# 提取fundcode\n",
    "output = []\n",
    "for fund in pool['基金名称']:\n",
    "    output.append(kf.get_fund_code_by_name(fund_name=fund))"
   ],
   "metadata": {
    "collapsed": false,
    "pycharm": {
     "name": "#%%\n"
    }
   }
  },
  {
   "cell_type": "code",
   "execution_count": 5,
   "outputs": [
    {
     "data": {
      "text/plain": "                    备案编号     fund_code\n格上景林丰收2号专项基金      S37210  179000341672\n长江期货景林丰收2号资产管理计划  SY0781  179000176699\n景林丰收2号基金          S20173  179000385902\nCTA春雷系列              无结果           无结果\n启林正兴东绣1号私募证券投资基金  SGG834  179000262843\n...                  ...           ...\n玄元元增1号私募证券投资基金B类    None  179000437801\n玄元元增13号私募证券投资基金   SSU213  179000444643\n玄元元增10号私募证券投资基金   SSH103  179000458406\n玄元元增15号私募证券投资基金   STS025  179000465892\n玄元元增11号私募证券投资基金   SSH379  179000471622\n\n[1221 rows x 2 columns]",
      "text/html": "<div>\n<style scoped>\n    .dataframe tbody tr th:only-of-type {\n        vertical-align: middle;\n    }\n\n    .dataframe tbody tr th {\n        vertical-align: top;\n    }\n\n    .dataframe thead th {\n        text-align: right;\n    }\n</style>\n<table border=\"1\" class=\"dataframe\">\n  <thead>\n    <tr style=\"text-align: right;\">\n      <th></th>\n      <th>备案编号</th>\n      <th>fund_code</th>\n    </tr>\n  </thead>\n  <tbody>\n    <tr>\n      <th>格上景林丰收2号专项基金</th>\n      <td>S37210</td>\n      <td>179000341672</td>\n    </tr>\n    <tr>\n      <th>长江期货景林丰收2号资产管理计划</th>\n      <td>SY0781</td>\n      <td>179000176699</td>\n    </tr>\n    <tr>\n      <th>景林丰收2号基金</th>\n      <td>S20173</td>\n      <td>179000385902</td>\n    </tr>\n    <tr>\n      <th>CTA春雷系列</th>\n      <td>无结果</td>\n      <td>无结果</td>\n    </tr>\n    <tr>\n      <th>启林正兴东绣1号私募证券投资基金</th>\n      <td>SGG834</td>\n      <td>179000262843</td>\n    </tr>\n    <tr>\n      <th>...</th>\n      <td>...</td>\n      <td>...</td>\n    </tr>\n    <tr>\n      <th>玄元元增1号私募证券投资基金B类</th>\n      <td>None</td>\n      <td>179000437801</td>\n    </tr>\n    <tr>\n      <th>玄元元增13号私募证券投资基金</th>\n      <td>SSU213</td>\n      <td>179000444643</td>\n    </tr>\n    <tr>\n      <th>玄元元增10号私募证券投资基金</th>\n      <td>SSH103</td>\n      <td>179000458406</td>\n    </tr>\n    <tr>\n      <th>玄元元增15号私募证券投资基金</th>\n      <td>STS025</td>\n      <td>179000465892</td>\n    </tr>\n    <tr>\n      <th>玄元元增11号私募证券投资基金</th>\n      <td>SSH379</td>\n      <td>179000471622</td>\n    </tr>\n  </tbody>\n</table>\n<p>1221 rows × 2 columns</p>\n</div>"
     },
     "execution_count": 5,
     "metadata": {},
     "output_type": "execute_result"
    }
   ],
   "source": [
    "fund_code_list = pd.concat(output, axis=0)\n",
    "fund_code_list"
   ],
   "metadata": {
    "collapsed": false,
    "pycharm": {
     "name": "#%%\n"
    }
   }
  },
  {
   "cell_type": "code",
   "execution_count": 6,
   "outputs": [],
   "source": [
    "fund_code_list.to_excel('fund_code_list.xlsx')"
   ],
   "metadata": {
    "collapsed": false,
    "pycharm": {
     "name": "#%%\n"
    }
   }
  },
  {
   "cell_type": "code",
   "execution_count": null,
   "outputs": [],
   "source": [],
   "metadata": {
    "collapsed": false,
    "pycharm": {
     "name": "#%%\n"
    }
   }
  }
 ],
 "metadata": {
  "kernelspec": {
   "display_name": "Python 3",
   "language": "python",
   "name": "python3"
  },
  "language_info": {
   "codemirror_mode": {
    "name": "ipython",
    "version": 2
   },
   "file_extension": ".py",
   "mimetype": "text/x-python",
   "name": "python",
   "nbconvert_exporter": "python",
   "pygments_lexer": "ipython2",
   "version": "2.7.6"
  }
 },
 "nbformat": 4,
 "nbformat_minor": 0
}